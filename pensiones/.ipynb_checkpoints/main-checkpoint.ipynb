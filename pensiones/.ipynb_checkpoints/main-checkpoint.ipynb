{
 "cells": [
  {
   "cell_type": "code",
   "execution_count": 1,
   "metadata": {},
   "outputs": [
    {
     "data": {
      "text/html": [
       "<div>\n",
       "<style scoped>\n",
       "    .dataframe tbody tr th:only-of-type {\n",
       "        vertical-align: middle;\n",
       "    }\n",
       "\n",
       "    .dataframe tbody tr th {\n",
       "        vertical-align: top;\n",
       "    }\n",
       "\n",
       "    .dataframe thead th {\n",
       "        text-align: right;\n",
       "    }\n",
       "</style>\n",
       "<table border=\"1\" class=\"dataframe\">\n",
       "  <thead>\n",
       "    <tr style=\"text-align: right;\">\n",
       "      <th></th>\n",
       "      <th>Retire Before 65 Years Old</th>\n",
       "      <th>Gender</th>\n",
       "      <th>Desease</th>\n",
       "      <th>Education Level</th>\n",
       "      <th>Marital Status</th>\n",
       "      <th>Monthly Income</th>\n",
       "      <th>Employee/Employer</th>\n",
       "      <th>Dependants</th>\n",
       "      <th>Unemployment Rate</th>\n",
       "      <th>Stock Market</th>\n",
       "      <th>Credit Score</th>\n",
       "      <th>Government Bonds Return</th>\n",
       "    </tr>\n",
       "  </thead>\n",
       "  <tbody>\n",
       "    <tr>\n",
       "      <th>0</th>\n",
       "      <td>1</td>\n",
       "      <td>1</td>\n",
       "      <td>1</td>\n",
       "      <td>3</td>\n",
       "      <td>0</td>\n",
       "      <td>18000</td>\n",
       "      <td>0</td>\n",
       "      <td>4</td>\n",
       "      <td>3.444876</td>\n",
       "      <td>24066.16667</td>\n",
       "      <td>699</td>\n",
       "      <td>7.715833</td>\n",
       "    </tr>\n",
       "    <tr>\n",
       "      <th>1</th>\n",
       "      <td>0</td>\n",
       "      <td>1</td>\n",
       "      <td>0</td>\n",
       "      <td>3</td>\n",
       "      <td>0</td>\n",
       "      <td>32000</td>\n",
       "      <td>0</td>\n",
       "      <td>1</td>\n",
       "      <td>5.023797</td>\n",
       "      <td>42063.16667</td>\n",
       "      <td>639</td>\n",
       "      <td>5.414833</td>\n",
       "    </tr>\n",
       "    <tr>\n",
       "      <th>2</th>\n",
       "      <td>0</td>\n",
       "      <td>1</td>\n",
       "      <td>1</td>\n",
       "      <td>4</td>\n",
       "      <td>0</td>\n",
       "      <td>20000</td>\n",
       "      <td>0</td>\n",
       "      <td>2</td>\n",
       "      <td>5.355220</td>\n",
       "      <td>30100.50000</td>\n",
       "      <td>610</td>\n",
       "      <td>7.962750</td>\n",
       "    </tr>\n",
       "    <tr>\n",
       "      <th>3</th>\n",
       "      <td>0</td>\n",
       "      <td>0</td>\n",
       "      <td>1</td>\n",
       "      <td>4</td>\n",
       "      <td>1</td>\n",
       "      <td>35000</td>\n",
       "      <td>1</td>\n",
       "      <td>1</td>\n",
       "      <td>3.843570</td>\n",
       "      <td>24066.16667</td>\n",
       "      <td>649</td>\n",
       "      <td>7.715833</td>\n",
       "    </tr>\n",
       "    <tr>\n",
       "      <th>4</th>\n",
       "      <td>0</td>\n",
       "      <td>0</td>\n",
       "      <td>1</td>\n",
       "      <td>3</td>\n",
       "      <td>0</td>\n",
       "      <td>27000</td>\n",
       "      <td>0</td>\n",
       "      <td>1</td>\n",
       "      <td>4.949226</td>\n",
       "      <td>19439.00000</td>\n",
       "      <td>638</td>\n",
       "      <td>8.024167</td>\n",
       "    </tr>\n",
       "    <tr>\n",
       "      <th>...</th>\n",
       "      <td>...</td>\n",
       "      <td>...</td>\n",
       "      <td>...</td>\n",
       "      <td>...</td>\n",
       "      <td>...</td>\n",
       "      <td>...</td>\n",
       "      <td>...</td>\n",
       "      <td>...</td>\n",
       "      <td>...</td>\n",
       "      <td>...</td>\n",
       "      <td>...</td>\n",
       "      <td>...</td>\n",
       "    </tr>\n",
       "    <tr>\n",
       "      <th>1495</th>\n",
       "      <td>1</td>\n",
       "      <td>0</td>\n",
       "      <td>0</td>\n",
       "      <td>5</td>\n",
       "      <td>1</td>\n",
       "      <td>26000</td>\n",
       "      <td>0</td>\n",
       "      <td>2</td>\n",
       "      <td>5.111358</td>\n",
       "      <td>32304.66667</td>\n",
       "      <td>604</td>\n",
       "      <td>7.193917</td>\n",
       "    </tr>\n",
       "    <tr>\n",
       "      <th>1496</th>\n",
       "      <td>0</td>\n",
       "      <td>1</td>\n",
       "      <td>0</td>\n",
       "      <td>3</td>\n",
       "      <td>0</td>\n",
       "      <td>32000</td>\n",
       "      <td>0</td>\n",
       "      <td>4</td>\n",
       "      <td>4.929185</td>\n",
       "      <td>41229.83333</td>\n",
       "      <td>753</td>\n",
       "      <td>5.910000</td>\n",
       "    </tr>\n",
       "    <tr>\n",
       "      <th>1497</th>\n",
       "      <td>1</td>\n",
       "      <td>1</td>\n",
       "      <td>1</td>\n",
       "      <td>4</td>\n",
       "      <td>1</td>\n",
       "      <td>17000</td>\n",
       "      <td>0</td>\n",
       "      <td>2</td>\n",
       "      <td>5.054852</td>\n",
       "      <td>37846.16667</td>\n",
       "      <td>631</td>\n",
       "      <td>6.198750</td>\n",
       "    </tr>\n",
       "    <tr>\n",
       "      <th>1498</th>\n",
       "      <td>0</td>\n",
       "      <td>0</td>\n",
       "      <td>0</td>\n",
       "      <td>5</td>\n",
       "      <td>0</td>\n",
       "      <td>26000</td>\n",
       "      <td>0</td>\n",
       "      <td>2</td>\n",
       "      <td>4.827790</td>\n",
       "      <td>41229.83333</td>\n",
       "      <td>613</td>\n",
       "      <td>5.910000</td>\n",
       "    </tr>\n",
       "    <tr>\n",
       "      <th>1499</th>\n",
       "      <td>0</td>\n",
       "      <td>0</td>\n",
       "      <td>1</td>\n",
       "      <td>3</td>\n",
       "      <td>1</td>\n",
       "      <td>33000</td>\n",
       "      <td>1</td>\n",
       "      <td>1</td>\n",
       "      <td>5.195010</td>\n",
       "      <td>31577.33333</td>\n",
       "      <td>649</td>\n",
       "      <td>7.701083</td>\n",
       "    </tr>\n",
       "  </tbody>\n",
       "</table>\n",
       "<p>1500 rows × 12 columns</p>\n",
       "</div>"
      ],
      "text/plain": [
       "      Retire Before 65 Years Old  Gender  Desease  Education Level  \\\n",
       "0                              1       1        1                3   \n",
       "1                              0       1        0                3   \n",
       "2                              0       1        1                4   \n",
       "3                              0       0        1                4   \n",
       "4                              0       0        1                3   \n",
       "...                          ...     ...      ...              ...   \n",
       "1495                           1       0        0                5   \n",
       "1496                           0       1        0                3   \n",
       "1497                           1       1        1                4   \n",
       "1498                           0       0        0                5   \n",
       "1499                           0       0        1                3   \n",
       "\n",
       "      Marital Status  Monthly Income  Employee/Employer  Dependants  \\\n",
       "0                  0           18000                  0           4   \n",
       "1                  0           32000                  0           1   \n",
       "2                  0           20000                  0           2   \n",
       "3                  1           35000                  1           1   \n",
       "4                  0           27000                  0           1   \n",
       "...              ...             ...                ...         ...   \n",
       "1495               1           26000                  0           2   \n",
       "1496               0           32000                  0           4   \n",
       "1497               1           17000                  0           2   \n",
       "1498               0           26000                  0           2   \n",
       "1499               1           33000                  1           1   \n",
       "\n",
       "      Unemployment Rate  Stock Market  Credit Score  Government Bonds Return  \n",
       "0              3.444876   24066.16667           699                 7.715833  \n",
       "1              5.023797   42063.16667           639                 5.414833  \n",
       "2              5.355220   30100.50000           610                 7.962750  \n",
       "3              3.843570   24066.16667           649                 7.715833  \n",
       "4              4.949226   19439.00000           638                 8.024167  \n",
       "...                 ...           ...           ...                      ...  \n",
       "1495           5.111358   32304.66667           604                 7.193917  \n",
       "1496           4.929185   41229.83333           753                 5.910000  \n",
       "1497           5.054852   37846.16667           631                 6.198750  \n",
       "1498           4.827790   41229.83333           613                 5.910000  \n",
       "1499           5.195010   31577.33333           649                 7.701083  \n",
       "\n",
       "[1500 rows x 12 columns]"
      ]
     },
     "execution_count": 1,
     "metadata": {},
     "output_type": "execute_result"
    }
   ],
   "source": [
    "import pandas as pd\n",
    "\n",
    "df = pd.read_excel(\"EarlyRetirementPrediction.xlsx\")\n",
    "df"
   ]
  },
  {
   "cell_type": "code",
   "execution_count": 3,
   "metadata": {},
   "outputs": [
    {
     "data": {
      "text/plain": [
       "Retire Before 65 Years Old    0\n",
       "Gender                        0\n",
       "Desease                       0\n",
       "Education Level               0\n",
       "Marital Status                0\n",
       "Monthly Income                0\n",
       "Employee/Employer             0\n",
       "Dependants                    0\n",
       "Unemployment Rate             0\n",
       "Stock Market                  0\n",
       "Credit Score                  0\n",
       "Government Bonds Return       0\n",
       "dtype: int64"
      ]
     },
     "execution_count": 3,
     "metadata": {},
     "output_type": "execute_result"
    }
   ],
   "source": [
    "df.isna().sum()"
   ]
  },
  {
   "cell_type": "code",
   "execution_count": 2,
   "metadata": {},
   "outputs": [
    {
     "data": {
      "text/html": [
       "<div>\n",
       "<style scoped>\n",
       "    .dataframe tbody tr th:only-of-type {\n",
       "        vertical-align: middle;\n",
       "    }\n",
       "\n",
       "    .dataframe tbody tr th {\n",
       "        vertical-align: top;\n",
       "    }\n",
       "\n",
       "    .dataframe thead th {\n",
       "        text-align: right;\n",
       "    }\n",
       "</style>\n",
       "<table border=\"1\" class=\"dataframe\">\n",
       "  <thead>\n",
       "    <tr style=\"text-align: right;\">\n",
       "      <th></th>\n",
       "      <th>Retire Before 65 Years Old</th>\n",
       "      <th>Gender</th>\n",
       "      <th>Desease</th>\n",
       "      <th>Education Level</th>\n",
       "      <th>Marital Status</th>\n",
       "      <th>Monthly Income</th>\n",
       "      <th>Employee/Employer</th>\n",
       "      <th>Dependants</th>\n",
       "      <th>Unemployment Rate</th>\n",
       "      <th>Stock Market</th>\n",
       "      <th>Credit Score</th>\n",
       "      <th>Government Bonds Return</th>\n",
       "    </tr>\n",
       "  </thead>\n",
       "  <tbody>\n",
       "    <tr>\n",
       "      <th>count</th>\n",
       "      <td>1500.000000</td>\n",
       "      <td>1500.000000</td>\n",
       "      <td>1500.000000</td>\n",
       "      <td>1500.000000</td>\n",
       "      <td>1500.000000</td>\n",
       "      <td>1500.000000</td>\n",
       "      <td>1500.000000</td>\n",
       "      <td>1500.000000</td>\n",
       "      <td>1500.000000</td>\n",
       "      <td>1500.000000</td>\n",
       "      <td>1500.000000</td>\n",
       "      <td>1500.000000</td>\n",
       "    </tr>\n",
       "    <tr>\n",
       "      <th>mean</th>\n",
       "      <td>0.470667</td>\n",
       "      <td>0.606000</td>\n",
       "      <td>0.426667</td>\n",
       "      <td>3.949333</td>\n",
       "      <td>0.576000</td>\n",
       "      <td>25053.333333</td>\n",
       "      <td>0.401333</td>\n",
       "      <td>2.498000</td>\n",
       "      <td>4.535757</td>\n",
       "      <td>32424.434445</td>\n",
       "      <td>699.158667</td>\n",
       "      <td>7.141414</td>\n",
       "    </tr>\n",
       "    <tr>\n",
       "      <th>std</th>\n",
       "      <td>0.499305</td>\n",
       "      <td>0.488798</td>\n",
       "      <td>0.494758</td>\n",
       "      <td>0.859026</td>\n",
       "      <td>0.494355</td>\n",
       "      <td>7816.172375</td>\n",
       "      <td>0.490332</td>\n",
       "      <td>1.131452</td>\n",
       "      <td>0.763738</td>\n",
       "      <td>9521.113675</td>\n",
       "      <td>58.324220</td>\n",
       "      <td>1.236645</td>\n",
       "    </tr>\n",
       "    <tr>\n",
       "      <th>min</th>\n",
       "      <td>0.000000</td>\n",
       "      <td>0.000000</td>\n",
       "      <td>0.000000</td>\n",
       "      <td>1.000000</td>\n",
       "      <td>0.000000</td>\n",
       "      <td>15000.000000</td>\n",
       "      <td>0.000000</td>\n",
       "      <td>1.000000</td>\n",
       "      <td>2.939656</td>\n",
       "      <td>12789.000000</td>\n",
       "      <td>600.000000</td>\n",
       "      <td>5.095083</td>\n",
       "    </tr>\n",
       "    <tr>\n",
       "      <th>25%</th>\n",
       "      <td>0.000000</td>\n",
       "      <td>0.000000</td>\n",
       "      <td>0.000000</td>\n",
       "      <td>3.000000</td>\n",
       "      <td>0.000000</td>\n",
       "      <td>18000.000000</td>\n",
       "      <td>0.000000</td>\n",
       "      <td>1.000000</td>\n",
       "      <td>3.843570</td>\n",
       "      <td>26982.333330</td>\n",
       "      <td>646.000000</td>\n",
       "      <td>6.057500</td>\n",
       "    </tr>\n",
       "    <tr>\n",
       "      <th>50%</th>\n",
       "      <td>0.000000</td>\n",
       "      <td>1.000000</td>\n",
       "      <td>0.000000</td>\n",
       "      <td>4.000000</td>\n",
       "      <td>1.000000</td>\n",
       "      <td>23000.000000</td>\n",
       "      <td>0.000000</td>\n",
       "      <td>2.000000</td>\n",
       "      <td>4.721421</td>\n",
       "      <td>32304.666670</td>\n",
       "      <td>700.000000</td>\n",
       "      <td>7.193917</td>\n",
       "    </tr>\n",
       "    <tr>\n",
       "      <th>75%</th>\n",
       "      <td>1.000000</td>\n",
       "      <td>1.000000</td>\n",
       "      <td>1.000000</td>\n",
       "      <td>5.000000</td>\n",
       "      <td>1.000000</td>\n",
       "      <td>32000.000000</td>\n",
       "      <td>1.000000</td>\n",
       "      <td>4.000000</td>\n",
       "      <td>5.111358</td>\n",
       "      <td>41229.833330</td>\n",
       "      <td>751.000000</td>\n",
       "      <td>8.024167</td>\n",
       "    </tr>\n",
       "    <tr>\n",
       "      <th>max</th>\n",
       "      <td>1.000000</td>\n",
       "      <td>1.000000</td>\n",
       "      <td>1.000000</td>\n",
       "      <td>5.000000</td>\n",
       "      <td>1.000000</td>\n",
       "      <td>40000.000000</td>\n",
       "      <td>1.000000</td>\n",
       "      <td>4.000000</td>\n",
       "      <td>6.741151</td>\n",
       "      <td>44555.833330</td>\n",
       "      <td>800.000000</td>\n",
       "      <td>10.074167</td>\n",
       "    </tr>\n",
       "  </tbody>\n",
       "</table>\n",
       "</div>"
      ],
      "text/plain": [
       "       Retire Before 65 Years Old       Gender      Desease  Education Level  \\\n",
       "count                 1500.000000  1500.000000  1500.000000      1500.000000   \n",
       "mean                     0.470667     0.606000     0.426667         3.949333   \n",
       "std                      0.499305     0.488798     0.494758         0.859026   \n",
       "min                      0.000000     0.000000     0.000000         1.000000   \n",
       "25%                      0.000000     0.000000     0.000000         3.000000   \n",
       "50%                      0.000000     1.000000     0.000000         4.000000   \n",
       "75%                      1.000000     1.000000     1.000000         5.000000   \n",
       "max                      1.000000     1.000000     1.000000         5.000000   \n",
       "\n",
       "       Marital Status  Monthly Income  Employee/Employer   Dependants  \\\n",
       "count     1500.000000     1500.000000        1500.000000  1500.000000   \n",
       "mean         0.576000    25053.333333           0.401333     2.498000   \n",
       "std          0.494355     7816.172375           0.490332     1.131452   \n",
       "min          0.000000    15000.000000           0.000000     1.000000   \n",
       "25%          0.000000    18000.000000           0.000000     1.000000   \n",
       "50%          1.000000    23000.000000           0.000000     2.000000   \n",
       "75%          1.000000    32000.000000           1.000000     4.000000   \n",
       "max          1.000000    40000.000000           1.000000     4.000000   \n",
       "\n",
       "       Unemployment Rate  Stock Market  Credit Score  Government Bonds Return  \n",
       "count        1500.000000   1500.000000   1500.000000              1500.000000  \n",
       "mean            4.535757  32424.434445    699.158667                 7.141414  \n",
       "std             0.763738   9521.113675     58.324220                 1.236645  \n",
       "min             2.939656  12789.000000    600.000000                 5.095083  \n",
       "25%             3.843570  26982.333330    646.000000                 6.057500  \n",
       "50%             4.721421  32304.666670    700.000000                 7.193917  \n",
       "75%             5.111358  41229.833330    751.000000                 8.024167  \n",
       "max             6.741151  44555.833330    800.000000                10.074167  "
      ]
     },
     "execution_count": 2,
     "metadata": {},
     "output_type": "execute_result"
    }
   ],
   "source": [
    "df.describe()"
   ]
  },
  {
   "cell_type": "markdown",
   "metadata": {},
   "source": [
    "## Preprocessing"
   ]
  },
  {
   "cell_type": "code",
   "execution_count": 39,
   "metadata": {},
   "outputs": [],
   "source": [
    "from sklearn.preprocessing import MinMaxScaler\n",
    "scaler = MinMaxScaler()\n",
    "scaler.fit(df.iloc[:,1:])\n",
    "X = scaler.transform(df.iloc[:,1:])\n",
    "y = df.iloc[:,0]"
   ]
  },
  {
   "cell_type": "code",
   "execution_count": 41,
   "metadata": {},
   "outputs": [
    {
     "data": {
      "text/plain": [
       "((1200, 11), (300, 11))"
      ]
     },
     "execution_count": 41,
     "metadata": {},
     "output_type": "execute_result"
    }
   ],
   "source": [
    "from sklearn.model_selection import train_test_split\n",
    "\n",
    "X_train, X_test, y_train, y_test = train_test_split(X, y, test_size=0.2)\n",
    "\n",
    "X_train.shape, X_test.shape"
   ]
  },
  {
   "cell_type": "markdown",
   "metadata": {},
   "source": [
    "## Random Forest Classifier"
   ]
  },
  {
   "cell_type": "code",
   "execution_count": 103,
   "metadata": {},
   "outputs": [
    {
     "data": {
      "text/plain": [
       "RandomForestClassifier(min_samples_leaf=20, n_estimators=200, n_jobs=-1)"
      ]
     },
     "execution_count": 103,
     "metadata": {},
     "output_type": "execute_result"
    }
   ],
   "source": [
    "from sklearn.ensemble import RandomForestClassifier\n",
    "\n",
    "clf = RandomForestClassifier(n_estimators=200, min_samples_leaf=20, n_jobs=-1)\n",
    "\n",
    "clf.fit(X_train, y_train)\n",
    "\n",
    "y_pred = clf.predict(X_test)"
   ]
  },
  {
   "cell_type": "markdown",
   "metadata": {},
   "source": [
    "### Confusion Matrix"
   ]
  },
  {
   "cell_type": "code",
   "execution_count": 106,
   "metadata": {},
   "outputs": [
    {
     "data": {
      "image/png": "[encoded data removed]",
      "text/plain": [
       "<Figure size 576x432 with 2 Axes>"
      ]
     },
     "metadata": {
      "needs_background": "light"
     },
     "output_type": "display_data"
    }
   ],
   "source": [
    "from sklearn.metrics import confusion_matrix\n",
    "import matplotlib.pyplot as plt\n",
    "import seaborn as sns\n",
    "\n",
    "# Create and plot confusion matrix\n",
    "cm = confusion_matrix(y_test, y_pred)/len(y_test)\n",
    "plt.figure(figsize=(8, 6))\n",
    "ax = sns.heatmap(cm, annot=True, cmap=\"Blues\", fmt=\"0.2%\")\n",
    "ax.set_title(\"Confusion Matrix - Random Forest\")\n",
    "\n",
    "ax.set_xlabel(\"Predicted Values\")\n",
    "ax.set_ylabel(\"True Values\")\n",
    "\n",
    "ax.xaxis.set_ticklabels([\"Negativo\", \"Positivo\"])\n",
    "ax.yaxis.set_ticklabels([\"Negativo\", \"Positivo\"])\n",
    "plt.show()"
   ]
  },
  {
   "cell_type": "markdown",
   "metadata": {},
   "source": [
    "### Evaluation Metrics"
   ]
  },
  {
   "cell_type": "code",
   "execution_count": 107,
   "metadata": {},
   "outputs": [
    {
     "name": "stdout",
     "output_type": "stream",
     "text": [
      "Metrics for best model\n",
      "Accuracy: 82.33%\n",
      "Precision: 83.10%\n",
      "Recall: 80.27%\n",
      "F1 score: 81.66%\n"
     ]
    }
   ],
   "source": [
    "from sklearn.metrics import accuracy_score, precision_score, recall_score, f1_score\n",
    "\n",
    "print('Metrics for best model')\n",
    "print('Accuracy: {:.2f}%'.format(accuracy_score(y_test, y_pred)*100))\n",
    "print('Precision: {:.2f}%'.format(precision_score(y_test, y_pred)*100))\n",
    "print('Recall: {:.2f}%'.format(recall_score(y_test, y_pred)*100))\n",
    "print('F1 score: {:.2f}%'.format(f1_score(y_test, y_pred)*100))"
   ]
  },
  {
   "cell_type": "code",
   "execution_count": 66,
   "metadata": {},
   "outputs": [
    {
     "data": {
      "text/plain": [
       "array([0.04045919, 0.00874835, 0.0080024 , 0.00782438, 0.04804034,\n",
       "       0.00975066, 0.74436178, 0.0327184 , 0.03332717, 0.03782408,\n",
       "       0.02894326])"
      ]
     },
     "execution_count": 66,
     "metadata": {},
     "output_type": "execute_result"
    }
   ],
   "source": [
    "clf.feature_importances_"
   ]
  },
  {
   "cell_type": "code",
   "execution_count": 67,
   "metadata": {},
   "outputs": [
    {
     "data": {
      "text/html": [
       "<div>\n",
       "<style scoped>\n",
       "    .dataframe tbody tr th:only-of-type {\n",
       "        vertical-align: middle;\n",
       "    }\n",
       "\n",
       "    .dataframe tbody tr th {\n",
       "        vertical-align: top;\n",
       "    }\n",
       "\n",
       "    .dataframe thead th {\n",
       "        text-align: right;\n",
       "    }\n",
       "</style>\n",
       "<table border=\"1\" class=\"dataframe\">\n",
       "  <thead>\n",
       "    <tr style=\"text-align: right;\">\n",
       "      <th></th>\n",
       "      <th>Importancia</th>\n",
       "    </tr>\n",
       "  </thead>\n",
       "  <tbody>\n",
       "    <tr>\n",
       "      <th>Dependants</th>\n",
       "      <td>0.744362</td>\n",
       "    </tr>\n",
       "    <tr>\n",
       "      <th>Monthly Income</th>\n",
       "      <td>0.048040</td>\n",
       "    </tr>\n",
       "    <tr>\n",
       "      <th>Gender</th>\n",
       "      <td>0.040459</td>\n",
       "    </tr>\n",
       "    <tr>\n",
       "      <th>Credit Score</th>\n",
       "      <td>0.037824</td>\n",
       "    </tr>\n",
       "    <tr>\n",
       "      <th>Stock Market</th>\n",
       "      <td>0.033327</td>\n",
       "    </tr>\n",
       "    <tr>\n",
       "      <th>Unemployment Rate</th>\n",
       "      <td>0.032718</td>\n",
       "    </tr>\n",
       "    <tr>\n",
       "      <th>Government Bonds Return</th>\n",
       "      <td>0.028943</td>\n",
       "    </tr>\n",
       "    <tr>\n",
       "      <th>Employee/Employer</th>\n",
       "      <td>0.009751</td>\n",
       "    </tr>\n",
       "    <tr>\n",
       "      <th>Desease</th>\n",
       "      <td>0.008748</td>\n",
       "    </tr>\n",
       "    <tr>\n",
       "      <th>Education Level</th>\n",
       "      <td>0.008002</td>\n",
       "    </tr>\n",
       "    <tr>\n",
       "      <th>Marital Status</th>\n",
       "      <td>0.007824</td>\n",
       "    </tr>\n",
       "  </tbody>\n",
       "</table>\n",
       "</div>"
      ],
      "text/plain": [
       "                         Importancia\n",
       "Dependants                  0.744362\n",
       "Monthly Income              0.048040\n",
       "Gender                      0.040459\n",
       "Credit Score                0.037824\n",
       "Stock Market                0.033327\n",
       "Unemployment Rate           0.032718\n",
       "Government Bonds Return     0.028943\n",
       "Employee/Employer           0.009751\n",
       "Desease                     0.008748\n",
       "Education Level             0.008002\n",
       "Marital Status              0.007824"
      ]
     },
     "execution_count": 67,
     "metadata": {},
     "output_type": "execute_result"
    }
   ],
   "source": [
    "features_importance = pd.DataFrame(\n",
    "    clf.feature_importances_, index=df.iloc[:,1:].columns).sort_values(by=0, ascending=False)\n",
    "features_importance = features_importance.rename({0: \"Importancia\"}, axis=1)\n",
    "features_importance[:20]"
   ]
  },
  {
   "cell_type": "markdown",
   "metadata": {},
   "source": [
    "## Logistic Regression"
   ]
  },
  {
   "cell_type": "code",
   "execution_count": 100,
   "metadata": {},
   "outputs": [
    {
     "name": "stdout",
     "output_type": "stream",
     "text": [
      "(1200,) (300,)\n"
     ]
    },
    {
     "data": {
      "text/plain": [
       "array([1, 1, 0, 1, 1, 0, 0, 0, 1, 0, 0, 1, 1, 1, 1, 0, 0, 0, 0, 1, 0, 0,\n",
       "       0, 0, 0, 0, 1, 1, 0, 0, 0, 0, 1, 1, 0, 0, 1, 0, 0, 1, 0, 1, 0, 1,\n",
       "       1, 0, 0, 1, 0, 0, 0, 0, 1, 0, 1, 0, 0, 1, 0, 1, 1, 1, 1, 0, 1, 1,\n",
       "       0, 1, 1, 1, 1, 1, 1, 0, 0, 0, 1, 0, 1, 1, 1, 0, 0, 1, 0, 1, 0, 1,\n",
       "       1, 0, 0, 0, 0, 0, 1, 1, 0, 0, 0, 1, 0, 0, 0, 1, 1, 1, 1, 1, 1, 0,\n",
       "       0, 0, 1, 1, 1, 1, 1, 0, 1, 0, 1, 0, 0, 0, 0, 0, 0, 0, 0, 0, 1, 1,\n",
       "       0, 1, 1, 0, 1, 0, 0, 1, 0, 1, 1, 0, 1, 0, 1, 0, 0, 0, 1, 0, 0, 0,\n",
       "       0, 1, 0, 1, 1, 0, 0, 1, 0, 1, 1, 1, 0, 1, 0, 1, 1, 1, 1, 0, 0, 0,\n",
       "       0, 1, 1, 1, 0, 0, 1, 1, 0, 0, 1, 0, 1, 0, 1, 0, 0, 1, 1, 1, 0, 1,\n",
       "       1, 1, 0, 1, 1, 0, 1, 1, 1, 0, 0, 1, 0, 0, 0, 0, 0, 1, 0, 0, 1, 1,\n",
       "       1, 0, 0, 0, 1, 1, 1, 1, 1, 0, 1, 1, 0, 0, 1, 0, 1, 0, 1, 0, 1, 0,\n",
       "       1, 0, 0, 0, 1, 0, 0, 0, 1, 0, 0, 1, 0, 1, 1, 1, 0, 1, 1, 1, 0, 1,\n",
       "       0, 0, 0, 0, 0, 1, 1, 1, 0, 1, 0, 0, 1, 1, 0, 0, 0, 1, 0, 1, 1, 1,\n",
       "       0, 0, 0, 1, 1, 0, 0, 0, 0, 1, 1, 0, 1, 1], dtype=int64)"
      ]
     },
     "execution_count": 100,
     "metadata": {},
     "output_type": "execute_result"
    }
   ],
   "source": [
    "from sklearn.linear_model import LogisticRegression\n",
    "import numpy as np\n",
    "\n",
    "nX_train, nX_test, ny_train, ny_test = train_test_split(np.array(df[\"Dependants\"]), y, test_size=0.2)\n",
    "print(nX_train.shape, nX_test.shape)\n",
    "\n",
    "clf = LogisticRegression()\n",
    "clf.fit(nX_train.reshape(-1,1),ny_train)\n",
    "clf.predict(nX_test.reshape(-1,1))"
   ]
  },
  {
   "cell_type": "code",
   "execution_count": null,
   "metadata": {},
   "outputs": [],
   "source": [
    "from sklearn.metrics import confusion_matrix\n",
    "import matplotlib.pyplot as plt\n",
    "import seaborn as sns\n",
    "\n",
    "# Create and plot confusion matrix\n",
    "cm = confusion_matrix(y, y_pred)/len(y)\n",
    "plt.figure(figsize=(8, 6))\n",
    "ax = sns.heatmap(cm, annot=True, cmap=\"Blues\", fmt=\"0.2%\")\n",
    "ax.set_title(\"Confusion Matrix - Random Forest\")\n",
    "\n",
    "ax.set_xlabel(\"Predicted Values\")\n",
    "ax.set_ylabel(\"True Values\")\n",
    "\n",
    "ax.xaxis.set_ticklabels([\"Negativo\", \"Positivo\"])\n",
    "ax.yaxis.set_ticklabels([\"Negativo\", \"Positivo\"])\n",
    "plt.show()"
   ]
  },
  {
   "cell_type": "code",
   "execution_count": 95,
   "metadata": {},
   "outputs": [
    {
     "data": {
      "text/plain": [
       "array([0, 0, 0, 0, 1, 0, 0, 0, 1, 0, 0, 0, 1, 0, 1, 1, 0, 1, 1, 1, 0, 1,\n",
       "       1, 0, 1, 1, 0, 0, 0, 0, 0, 1, 0, 1, 0, 0, 0, 0, 0, 0, 1, 0, 0, 0,\n",
       "       0, 0, 0, 0, 1, 0, 1, 1, 0, 1, 1, 1, 1, 0, 1, 1, 1, 0, 0, 1, 0, 0,\n",
       "       1, 1, 0, 1, 1, 1, 0, 1, 0, 0, 1, 0, 1, 1, 1, 1, 1, 1, 0, 0, 1, 0,\n",
       "       0, 0, 0, 0, 1, 1, 1, 0, 0, 0, 0, 1, 0, 1, 1, 1, 0, 1, 1, 0, 1, 0,\n",
       "       0, 0, 1, 1, 0, 0, 1, 1, 0, 0, 1, 0, 0, 0, 0, 1, 1, 1, 1, 0, 1, 0,\n",
       "       1, 0, 0, 1, 0, 1, 0, 0, 0, 0, 1, 0, 0, 1, 0, 0, 1, 1, 0, 1, 0, 0,\n",
       "       0, 1, 0, 1, 1, 1, 1, 1, 1, 1, 1, 0, 0, 1, 0, 0, 0, 1, 1, 1, 0, 0,\n",
       "       1, 0, 1, 1, 0, 0, 0, 0, 1, 0, 1, 0, 0, 1, 0, 0, 1, 0, 1, 1, 0, 1,\n",
       "       1, 0, 0, 1, 1, 1, 0, 0, 0, 1, 1, 0, 1, 0, 0, 0, 0, 1, 0, 0, 0, 0,\n",
       "       0, 0, 0, 0, 0, 1, 0, 0, 0, 0, 1, 0, 1, 1, 0, 1, 0, 1, 1, 0, 1, 1,\n",
       "       0, 1, 0, 0, 1, 0, 0, 0, 0, 0, 0, 1, 0, 0, 1, 1, 0, 1, 0, 0, 0, 0,\n",
       "       0, 1, 1, 1, 1, 1, 1, 0, 1, 0, 0, 1, 1, 1, 1, 1, 0, 0, 0, 1, 1, 0,\n",
       "       0, 0, 0, 0, 0, 0, 0, 0, 0, 1, 0, 0, 0, 1], dtype=int64)"
      ]
     },
     "execution_count": 95,
     "metadata": {},
     "output_type": "execute_result"
    }
   ],
   "source": [
    "from sklearn.linear_model import LogisticRegression\n",
    "\n",
    "clf = LogisticRegression()\n",
    "clf.fit(X_train, y_train)\n",
    "clf.predict(X_test)"
   ]
  }
 ],
 "metadata": {
  "kernelspec": {
   "display_name": "Python 3.9.2 64-bit",
   "language": "python",
   "name": "python3"
  },
  "language_info": {
   "codemirror_mode": {
    "name": "ipython",
    "version": 3
   },
   "file_extension": ".py",
   "mimetype": "text/x-python",
   "name": "python",
   "nbconvert_exporter": "python",
   "pygments_lexer": "ipython3",
   "version": "3.9.2"
  },
  "orig_nbformat": 4,
  "vscode": {
   "interpreter": {
    "hash": "9e1205fd5f87b841d3262e7b7a22eaa5e88da30ef6fab0c6fe16f9d682804cf1"
   }
  }
 },
 "nbformat": 4,
 "nbformat_minor": 2
}
